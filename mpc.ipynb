{
 "cells": [
  {
   "cell_type": "code",
   "execution_count": 1,
   "metadata": {},
   "outputs": [],
   "source": [
    "import time\n",
    "import random\n",
    "\n",
    "from tinysmpc import VirtualMachine, PrivateScalar, SharedScalar"
   ]
  },
  {
   "cell_type": "code",
   "execution_count": 2,
   "metadata": {},
   "outputs": [],
   "source": [
    "def test_compare(x, y):  \n",
    "    alice = VirtualMachine('alice')\n",
    "    bob = VirtualMachine('bob')\n",
    "    x_sh = PrivateScalar(x, alice).share([alice, bob])\n",
    "    y_sh = PrivateScalar(y, bob).share([alice, bob])\n",
    "    z_sh = x_sh - y_sh\n",
    "    return (z_sh > 0).value\n",
    "\n",
    "\n",
    "def eval_securenn_time(xs, n_bit=16):\n",
    "    NB = n_bit\n",
    "    ML = 1 << NB\n",
    "    MR = ML - 1\n",
    "    ML = -ML\n",
    "\n",
    "    ys = []\n",
    "    idx = 0\n",
    "    st = time.time()\n",
    "    for i in range(max(xs)+1):\n",
    "        x = random.randint(MR>>1, MR)\n",
    "        y = random.randint(MR>>1, MR)\n",
    "        res = test_compare(x, y)\n",
    "        if i == xs[idx]:\n",
    "            _t = time.time()\n",
    "            ys.append((_t-st)*1000)\n",
    "            idx += 1\n",
    "            if idx >= len(xs):\n",
    "                break\n",
    "    return ys"
   ]
  },
  {
   "cell_type": "code",
   "execution_count": 4,
   "metadata": {},
   "outputs": [
    {
     "data": {
      "text/plain": [
       "6225.298881530762"
      ]
     },
     "execution_count": 4,
     "metadata": {},
     "output_type": "execute_result"
    }
   ],
   "source": [
    "xs=list(range(1, 1000, 40))\n",
    "\n",
    "ys = eval_securenn_time(xs, 63)\n",
    "\n",
    "ys[-1]"
   ]
  }
 ],
 "metadata": {
  "kernelspec": {
   "display_name": "base",
   "language": "python",
   "name": "python3"
  },
  "language_info": {
   "codemirror_mode": {
    "name": "ipython",
    "version": 3
   },
   "file_extension": ".py",
   "mimetype": "text/x-python",
   "name": "python",
   "nbconvert_exporter": "python",
   "pygments_lexer": "ipython3",
   "version": "3.9.13"
  },
  "orig_nbformat": 4
 },
 "nbformat": 4,
 "nbformat_minor": 2
}
