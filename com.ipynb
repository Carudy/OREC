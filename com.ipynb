{
 "cells": [
  {
   "cell_type": "code",
   "execution_count": 1,
   "metadata": {},
   "outputs": [],
   "source": [
    "from comm import *"
   ]
  },
  {
   "cell_type": "code",
   "execution_count": 2,
   "metadata": {},
   "outputs": [],
   "source": [
    "def cb1(bytes):\n",
    "    return (bytes.decode() + ' ok.').encode()\n",
    "\n",
    "\n",
    "def cb2(msg):\n",
    "    for k, v in msg.items():\n",
    "        print(f'{k}: {v}')\n",
    "    msg['v'] *= 1.5\n",
    "    return msg"
   ]
  },
  {
   "cell_type": "code",
   "execution_count": 3,
   "metadata": {},
   "outputs": [
    {
     "name": "stdout",
     "output_type": "stream",
     "text": [
      "a: abc\n",
      "v: 44.54\n",
      "<class 'dict'> {'a': 'abc', 'v': 66.81}\n"
     ]
    }
   ],
   "source": [
    "s = Grpcer()\n",
    "s.start_server(cb2)\n",
    "\n",
    "c = Grpcer()\n",
    "m = {\n",
    "    'a': 'abc',\n",
    "    'v': 44.54,\n",
    "}\n",
    "\n",
    "r = c.send(s, m)\n",
    "print(type(r), r)"
   ]
  }
 ],
 "metadata": {
  "kernelspec": {
   "display_name": "base",
   "language": "python",
   "name": "python3"
  },
  "language_info": {
   "codemirror_mode": {
    "name": "ipython",
    "version": 3
   },
   "file_extension": ".py",
   "mimetype": "text/x-python",
   "name": "python",
   "nbconvert_exporter": "python",
   "pygments_lexer": "ipython3",
   "version": "3.9.13"
  },
  "orig_nbformat": 4
 },
 "nbformat": 4,
 "nbformat_minor": 2
}
