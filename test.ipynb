{
 "cells": [
  {
   "cell_type": "code",
   "execution_count": 1,
   "metadata": {},
   "outputs": [],
   "source": [
    "from ore import *\n",
    "from orec import *\n",
    "\n",
    "import time"
   ]
  },
  {
   "cell_type": "code",
   "execution_count": 2,
   "metadata": {},
   "outputs": [],
   "source": [
    "NB = 32\n",
    "ML = 1 << NB\n",
    "MR = ML - 1\n",
    "ML = -ML\n",
    "\n",
    "def test_ore():\n",
    "    enc = ORE(key='123')\n",
    "    A = [random.randint(ML, MR) * 0.5 for _ in range(100)]\n",
    "    B = [random.randint(ML, MR) * 0.5 for _ in range(100)]\n",
    "    a = [enc.encode(scale_val(x, pn=MR+1)) for x in A]\n",
    "    b = [enc.encode(scale_val(x, pn=MR+1)) for x in B]\n",
    "\n",
    "    for i in range(len(A)):\n",
    "        z = 0 if A[i] == B[i] else (1 if A[i] > B[i] else -1)\n",
    "        if z != enc.compare(a[i], b[i]):\n",
    "            print(i)\n",
    "\n",
    "\n",
    "def test_orec():\n",
    "    sim = OREC_Simulator(pn=MR+1)\n",
    "    for _ in range(100):\n",
    "        x = random.randint(ML, MR)\n",
    "        y = random.randint(ML, MR)\n",
    "        res = sim.test(x, y)\n",
    "        tar = get_size_relation(x, y)\n",
    "        if res != tar:\n",
    "            logger.info(f'Wrong!: {x, y}: {res, tar}')\n",
    "\n",
    "\n",
    "def eval_orec_time(xs):\n",
    "    sim = OREC_Simulator(pn=MR+1)\n",
    "    ys = []\n",
    "    idx = 0\n",
    "    st = time.time()\n",
    "    for i in range(max(xs)+1):\n",
    "        x = random.randint(ML, MR)\n",
    "        y = random.randint(ML, MR)\n",
    "        res = sim.test(x, y)\n",
    "        if i == xs[idx]:\n",
    "            _t = time.time()\n",
    "            ys.append((_t-st)*1000)\n",
    "            idx += 1\n",
    "            if idx >= len(xs):\n",
    "                break\n",
    "    return ys"
   ]
  },
  {
   "cell_type": "code",
   "execution_count": 3,
   "metadata": {},
   "outputs": [],
   "source": [
    "# %time test_orec()"
   ]
  },
  {
   "cell_type": "code",
   "execution_count": 4,
   "metadata": {},
   "outputs": [],
   "source": [
    "xs=list(range(1, 1000, 20))\n",
    "ys = eval_orec_time(xs)"
   ]
  },
  {
   "cell_type": "code",
   "execution_count": 5,
   "metadata": {},
   "outputs": [
    {
     "data": {
      "text/plain": [
       "'[3.105640411376953, 28.1219482421875, 54.1532039642334, 80.17110824584961, 105.72147369384766, 130.7361125946045, 155.78961372375488, 180.8013916015625, 207.47923851013184, 233.52408409118652, 259.55772399902344, 285.31551361083984, 310.84179878234863, 336.867094039917, 361.8893623352051, 387.1614933013916, 413.4488105773926, 438.18211555480957, 464.73097801208496, 489.38965797424316, 516.2742137908936, 541.4917469024658, 568.1161880493164, 594.5472717285156, 620.6769943237305, 646.2204456329346, 671.5865135192871, 698.1174945831299, 723.6337661743164, 749.3021488189697, 774.3582725524902, 801.1600971221924, 826.6761302947998, 851.6981601715088, 879.2424201965332, 904.8728942871094, 930.5419921875, 955.8267593383789, 981.7543029785156, 1007.5089931488037, 1033.6062908172607, 1058.6912631988525, 1085.2296352386475, 1110.3839874267578, 1136.3680362701416, 1162.3423099517822, 1187.7224445343018, 1213.6552333831787, 1240.0388717651367, 1266.1590576171875]'"
      ]
     },
     "execution_count": 5,
     "metadata": {},
     "output_type": "execute_result"
    }
   ],
   "source": [
    "str(ys)"
   ]
  }
 ],
 "metadata": {
  "kernelspec": {
   "display_name": "base",
   "language": "python",
   "name": "python3"
  },
  "language_info": {
   "codemirror_mode": {
    "name": "ipython",
    "version": 3
   },
   "file_extension": ".py",
   "mimetype": "text/x-python",
   "name": "python",
   "nbconvert_exporter": "python",
   "pygments_lexer": "ipython3",
   "version": "3.9.13"
  },
  "orig_nbformat": 4,
  "vscode": {
   "interpreter": {
    "hash": "a0960dae7e37e0d3c1488585f93b9269cdd4ed4dfc9f995a276327a913018d41"
   }
  }
 },
 "nbformat": 4,
 "nbformat_minor": 2
}
