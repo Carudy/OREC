{
 "cells": [
  {
   "cell_type": "code",
   "execution_count": 1,
   "metadata": {},
   "outputs": [],
   "source": [
    "from ore import *\n",
    "from orec import *\n",
    "\n",
    "import time"
   ]
  },
  {
   "cell_type": "code",
   "execution_count": 2,
   "metadata": {},
   "outputs": [],
   "source": [
    "NB = 64\n",
    "ML = 1 << NB\n",
    "MR = ML - 1\n",
    "ML = -ML\n",
    "\n",
    "def test_ore():\n",
    "    enc = ORE(key='123')\n",
    "    A = [random.randint(ML, MR) * 0.5 for _ in range(100)]\n",
    "    B = [random.randint(ML, MR) * 0.5 for _ in range(100)]\n",
    "    a = [enc.encode(scale_val(x, pn=MR+1)) for x in A]\n",
    "    b = [enc.encode(scale_val(x, pn=MR+1)) for x in B]\n",
    "\n",
    "    for i in range(len(A)):\n",
    "        z = 0 if A[i] == B[i] else (1 if A[i] > B[i] else -1)\n",
    "        if z != enc.compare(a[i], b[i]):\n",
    "            print(i)\n",
    "\n",
    "\n",
    "def test_orec():\n",
    "    sim = OREC_Simulator(pn=MR+1, n_piece=3)\n",
    "    for _ in range(100):\n",
    "        x = random.randint(ML, MR)\n",
    "        y = random.randint(ML, MR)\n",
    "        res = sim.test(x, y)\n",
    "        tar = get_size_relation(x, y)\n",
    "        if res != tar:\n",
    "            logger.info(f'Wrong!: {x, y}: {res, tar}')\n",
    "\n",
    "\n",
    "def eval_orec_time(xs):\n",
    "    sim = OREC_Simulator(pn=MR+1, n_piece=2)\n",
    "    ys = []\n",
    "    idx = 0\n",
    "    st = time.time()\n",
    "    for i in range(max(xs)+1):\n",
    "        x = random.randint(ML, MR)\n",
    "        y = random.randint(ML, MR)\n",
    "        res = sim.test(x, y)\n",
    "        if i == xs[idx]:\n",
    "            _t = time.time()\n",
    "            ys.append((_t-st)*1000)\n",
    "            idx += 1\n",
    "            if idx >= len(xs):\n",
    "                break\n",
    "    return ys"
   ]
  },
  {
   "cell_type": "code",
   "execution_count": 3,
   "metadata": {},
   "outputs": [],
   "source": [
    "# %time test_orec()"
   ]
  },
  {
   "cell_type": "code",
   "execution_count": 4,
   "metadata": {},
   "outputs": [
    {
     "data": {
      "text/plain": [
       "1789.6363735198975"
      ]
     },
     "execution_count": 4,
     "metadata": {},
     "output_type": "execute_result"
    }
   ],
   "source": [
    "xs=list(range(1, 1000, 40))\n",
    "ys = eval_orec_time(xs)\n",
    "ys[-1]"
   ]
  }
 ],
 "metadata": {
  "kernelspec": {
   "display_name": "base",
   "language": "python",
   "name": "python3"
  },
  "language_info": {
   "codemirror_mode": {
    "name": "ipython",
    "version": 3
   },
   "file_extension": ".py",
   "mimetype": "text/x-python",
   "name": "python",
   "nbconvert_exporter": "python",
   "pygments_lexer": "ipython3",
   "version": "3.9.13"
  },
  "orig_nbformat": 4,
  "vscode": {
   "interpreter": {
    "hash": "a0960dae7e37e0d3c1488585f93b9269cdd4ed4dfc9f995a276327a913018d41"
   }
  }
 },
 "nbformat": 4,
 "nbformat_minor": 2
}
